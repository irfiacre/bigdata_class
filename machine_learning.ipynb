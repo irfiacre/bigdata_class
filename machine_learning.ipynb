{
 "cells": [
  {
   "cell_type": "code",
   "execution_count": null,
   "metadata": {},
   "outputs": [],
   "source": [
    "# !pip install -U scikit-learn pandas"
   ]
  },
  {
   "cell_type": "code",
   "execution_count": null,
   "metadata": {},
   "outputs": [],
   "source": [
    "#Import Pandas and sklearn Libraries\n",
    "import pandas as pd\n",
    "from sklearn.tree import DecisionTreeClassifier\n",
    "\n",
    "DATA_SET = 'data/data.csv'\n",
    "\n",
    "dataFrame = pd.read_csv(DATA_SET,encoding='latin-1')\n",
    "#Learning with Decision Classifier\n",
    "X=dataFrame.drop (columns=['SNAMES ','Total Marks','Marks /20', 'Grading '])\n",
    "y=dataFrame['Grading ']\n",
    "model= DecisionTreeClassifier()\n",
    "model.fit(X.values, y)\n",
    "predictions = model.predict([[12,12,30,40]])\n",
    "print (predictions)"
   ]
  }
 ],
 "metadata": {
  "kernelspec": {
   "display_name": "Python 3",
   "language": "python",
   "name": "python3"
  },
  "language_info": {
   "codemirror_mode": {
    "name": "ipython",
    "version": 3
   },
   "file_extension": ".py",
   "mimetype": "text/x-python",
   "name": "python",
   "nbconvert_exporter": "python",
   "pygments_lexer": "ipython3",
   "version": "3.11.8"
  }
 },
 "nbformat": 4,
 "nbformat_minor": 2
}
