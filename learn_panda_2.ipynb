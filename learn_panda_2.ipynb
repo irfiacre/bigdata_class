{
 "cells": [
  {
   "cell_type": "code",
   "execution_count": null,
   "metadata": {},
   "outputs": [],
   "source": [
    "#  !pip install pandas\n",
    "\n",
    "# !pip install opencv-python"
   ]
  },
  {
   "cell_type": "code",
   "execution_count": null,
   "metadata": {},
   "outputs": [],
   "source": [
    "# import pandas as pd\n",
    "\n",
    "# DATA_SET = 'data/data.csv'\n",
    "# dataFrame = pd.read_csv(DATA_SET,encoding='latin-1')"
   ]
  },
  {
   "cell_type": "code",
   "execution_count": null,
   "metadata": {},
   "outputs": [],
   "source": [
    "# print(dataFrame.describe())"
   ]
  },
  {
   "cell_type": "code",
   "execution_count": null,
   "metadata": {},
   "outputs": [],
   "source": [
    "print (dataFrame.sort_values(\"SNAMES \"))"
   ]
  },
  {
   "cell_type": "code",
   "execution_count": null,
   "metadata": {},
   "outputs": [],
   "source": [
    "print (dataFrame.filter([\"SNAMES \",\"QUIZZES \"]))"
   ]
  },
  {
   "cell_type": "code",
   "execution_count": null,
   "metadata": {},
   "outputs": [],
   "source": [
    "print (dataFrame.filter(regex ='[aA]'))"
   ]
  },
  {
   "cell_type": "code",
   "execution_count": null,
   "metadata": {},
   "outputs": [],
   "source": [
    "\n",
    "dataFrame.groupby(['Semester']).mean(numeric_only=True)"
   ]
  },
  {
   "cell_type": "markdown",
   "metadata": {},
   "source": [
    "## Scikit-Learn"
   ]
  },
  {
   "cell_type": "code",
   "execution_count": null,
   "metadata": {},
   "outputs": [],
   "source": [
    "#pip install scikit-learn\n",
    "\n",
    "!pip install xlrd"
   ]
  },
  {
   "cell_type": "code",
   "execution_count": null,
   "metadata": {},
   "outputs": [],
   "source": [
    "import pandas as pd\n",
    "from sklearn.tree import DecisionTreeClassifier\n",
    "\n",
    "DATA_SET_EXCEL = 'data/data.csv'\n",
    "dataFrame = pd.read_csv(DATA_SET)\n",
    "\n",
    "dataFrame"
   ]
  },
  {
   "cell_type": "code",
   "execution_count": null,
   "metadata": {},
   "outputs": [],
   "source": [
    "\n",
    "X=dataFrame.drop(columns=['SNAMES ','Total Marks','Marks /20', 'Grading '])\n",
    "y=dataFrame['Grading ']\n",
    "model= DecisionTreeClassifier()\n",
    "model.fit(X.values, y)"
   ]
  },
  {
   "cell_type": "code",
   "execution_count": null,
   "metadata": {},
   "outputs": [],
   "source": [
    "predictions = model.predict([[10,1,14,4.0]])\n",
    "print (predictions)"
   ]
  },
  {
   "cell_type": "code",
   "execution_count": null,
   "metadata": {},
   "outputs": [],
   "source": [
    "import pandas as pd\n",
    "from sklearn.tree import DecisionTreeClassifier\n",
    "from sklearn.linear_model import LogisticRegression\n",
    "from sklearn import svm\n",
    "from sklearn.ensemble import RandomForestClassifier\n",
    "from sklearn.model_selection import train_test_split\n",
    "from sklearn.metrics import accuracy_score\n",
    "\n",
    "DATA_SET_EXCEL = 'data/data.csv'\n",
    "dataFrame = pd.read_csv(DATA_SET)\n",
    "\n",
    "X=dataFrame.drop(columns=['SNAMES ','Total Marks','Marks /20', 'Grading '])\n",
    "y=dataFrame['Grading ']\n",
    "\n",
    "X_train, x_test, y_train, y_test=train_test_split(X,y, test_size=0.2)\n",
    "#Create a Decision Tree, Logistic Regression, Suport Vector Machine and Random Forest Classifiers\n",
    "Decision_tree_model= DecisionTreeClassifier()\n",
    "Logistic_regression_Model=LogisticRegression(solver='lbfgs',max_iter=10000)\n",
    "SVM_model=svm.SVC(kernel='linear')\n",
    "RF_model=RandomForestClassifier(n_estimators=100)"
   ]
  },
  {
   "cell_type": "code",
   "execution_count": null,
   "metadata": {},
   "outputs": [],
   "source": [
    "#Train the models using the training sets\n",
    "Decision_tree_model.fit(X_train, y_train)\n",
    "Logistic_regression_Model.fit(X_train, y_train)\n",
    "SVM_model.fit(X_train, y_train)\n",
    "RF_model.fit(X_train, y_train)\n",
    "\n",
    "\n",
    "#Predict the Model\n",
    "DT_Prediction =Decision_tree_model.predict(x_test)\n",
    "LR_Prediction =Logistic_regression_Model.predict(x_test)\n",
    "SVM_Prediction =SVM_model.predict(x_test)\n",
    "RF_Prediction =RF_model.predict(x_test)"
   ]
  },
  {
   "cell_type": "code",
   "execution_count": null,
   "metadata": {},
   "outputs": [],
   "source": [
    "# Calculation of Model Accuracy\n",
    "DT_score=accuracy_score(y_test, DT_Prediction)\n",
    "lR_score=accuracy_score(y_test, LR_Prediction)\n",
    "SVM_score=accuracy_score(y_test, SVM_Prediction)\n",
    "RF_score=accuracy_score(y_test, RF_Prediction)\n",
    "# Display Accuracy\n",
    "\n",
    "print (\"Decistion Tree accuracy =\", DT_score*100,\"%\")\n",
    "print (\"Logistic Regression accuracy =\", lR_score*100,\"%\")\n",
    "print (\"Suport Vector Machine accuracy =\", SVM_score*100,\"%\")\n",
    "print (\"Random Forest accuracy =\", RF_score*100,\"%\")"
   ]
  },
  {
   "cell_type": "markdown",
   "metadata": {},
   "source": [
    "## Persisting Model"
   ]
  },
  {
   "cell_type": "code",
   "execution_count": null,
   "metadata": {},
   "outputs": [],
   "source": [
    "#Import Libraries\n",
    "import pandas as pd\n",
    "from sklearn import svm\n",
    "import joblib\n",
    "#Import the Dataset\n",
    "DATA_SET_EXCEL = 'data/data.csv'\n",
    "dataFrame = pd.read_csv(DATA_SET)\n",
    "\n",
    "# Learning with the Model\n",
    "X=dataFrame.drop (columns=['SNAMES ','Total Marks','Marks /20', 'Grading '])\n",
    "y=dataFrame['Grading ']\n",
    "model= svm.SVC(kernel='linear')\n",
    "model.fit(X.values, y)\n",
    "\n",
    "#Create a Persisting Model\n",
    "joblib.dump(model, 'grade-recommender.joblib')"
   ]
  },
  {
   "cell_type": "markdown",
   "metadata": {},
   "source": [
    "##### Using persistent model"
   ]
  },
  {
   "cell_type": "code",
   "execution_count": null,
   "metadata": {},
   "outputs": [],
   "source": [
    "import pandas as pd\n",
    "from sklearn import svm\n",
    "import joblib\n",
    "\n",
    "#User Inputs\n",
    "Quiz=int (input (\"Enter Quiz Marks :\"))\n",
    "Assgn= input (\"Enter Assignment Marks: \")\n",
    "Mid=int (input (\"Enter Mid Exam Marks Marks :\"))\n",
    "Final= input (\"Enter Final Exam Marks: \")\n",
    "\n",
    "\n",
    "#Predict from the created model\n",
    "model=joblib.load('grade-recommender.joblib')\n",
    "predictions = model.predict([[Quiz,Assgn,Mid,Final]])\n",
    "print(\"The Grade you will obtain is:\",predictions)"
   ]
  }
 ],
 "metadata": {
  "kernelspec": {
   "display_name": "Python 3",
   "language": "python",
   "name": "python3"
  },
  "language_info": {
   "codemirror_mode": {
    "name": "ipython",
    "version": 3
   },
   "file_extension": ".py",
   "mimetype": "text/x-python",
   "name": "python",
   "nbconvert_exporter": "python",
   "pygments_lexer": "ipython3",
   "version": "3.11.8"
  }
 },
 "nbformat": 4,
 "nbformat_minor": 2
}
