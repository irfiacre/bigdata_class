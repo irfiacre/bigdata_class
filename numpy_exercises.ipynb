{
 "cells": [
  {
   "cell_type": "code",
   "execution_count": null,
   "metadata": {},
   "outputs": [],
   "source": [
    "# !pip install numpy"
   ]
  },
  {
   "cell_type": "markdown",
   "metadata": {},
   "source": [
    "## Numpy Exercises"
   ]
  },
  {
   "cell_type": "code",
   "execution_count": null,
   "metadata": {},
   "outputs": [],
   "source": [
    "# Q1\n",
    "import numpy as np\n",
    "from numpy import array\n",
    "\n",
    "originalFlattenedArr = array(([0,1], [2,3]))\n",
    "maxElt = np.max(originalFlattenedArr)\n",
    "minElt = np.min(originalFlattenedArr)\n",
    "print(maxElt, minElt)\n",
    "\n",
    "np.max\n"
   ]
  },
  {
   "cell_type": "code",
   "execution_count": null,
   "metadata": {},
   "outputs": [],
   "source": [
    "# Q2\n",
    "import numpy as np\n",
    "from numpy import array\n",
    "\n",
    "originalFlattenedArr = array(([0,1], [2,3]))\n",
    "maxEltsInAxis = np.max(originalFlattenedArr, axis=1)\n",
    "minEltsInAxis = np.min(originalFlattenedArr, axis=1)\n",
    "print(maxEltsInAxis, minEltsInAxis)"
   ]
  },
  {
   "cell_type": "code",
   "execution_count": null,
   "metadata": {},
   "outputs": [],
   "source": [
    "# Q3\n",
    "import numpy as np\n",
    "from numpy import array\n",
    "\n",
    "originalArr = array(([ 0, 1, 2, 3, 4, 5], [ 6, 7, 8, 9, 10, 11]))\n",
    "maxEltsInAxis = np.max(originalArr, axis=1)\n",
    "minEltsInAxis = np.min(originalArr, axis=1)\n",
    "print(maxEltsInAxis, minEltsInAxis)\n",
    "differenceArr = np.subtract(maxEltsInAxis, minEltsInAxis)\n",
    "print(differenceArr)"
   ]
  },
  {
   "cell_type": "code",
   "execution_count": null,
   "metadata": {},
   "outputs": [],
   "source": [
    "# Q4 Find 80th Percentile\n",
    "\n",
    "import numpy as np\n",
    "from numpy import array\n",
    "\n",
    "originalArr = array([ 1.0, 2.0, 3.0, 4.0]).reshape(2,2)\n",
    "percentile80Arr = np.percentile(originalArr,80,axis=1)\n",
    "\n",
    "print(percentile80Arr)"
   ]
  },
  {
   "cell_type": "code",
   "execution_count": null,
   "metadata": {},
   "outputs": [],
   "source": [
    "# Q5 Find the median\n",
    "\n",
    "import numpy as np\n",
    "from numpy import array\n",
    "\n",
    "originalArr = array(([ 0,1,2,3,4,5],[6,7,8,9,10,11])).flatten()\n",
    "print(originalArr)\n",
    "medianElt = np.median(originalArr)\n",
    "\n",
    "print(medianElt)"
   ]
  },
  {
   "cell_type": "code",
   "execution_count": null,
   "metadata": {},
   "outputs": [],
   "source": [
    "# Q6 Find the weighted Average of a given array\n",
    "\n",
    "import numpy as np\n",
    "from numpy import array\n",
    "\n",
    "originalArr = array([ 0,1, 2, 3, 4])\n",
    "wgt =np.arange(1, len(originalArr)+1)\n",
    "\n",
    "weightedAvg = np.average(originalArr, weights=wgt)\n",
    "\n",
    "print(weightedAvg)"
   ]
  }
 ],
 "metadata": {
  "kernelspec": {
   "display_name": "Python 3",
   "language": "python",
   "name": "python3"
  },
  "language_info": {
   "codemirror_mode": {
    "name": "ipython",
    "version": 3
   },
   "file_extension": ".py",
   "mimetype": "text/x-python",
   "name": "python",
   "nbconvert_exporter": "python",
   "pygments_lexer": "ipython3",
   "version": "3.11.8"
  }
 },
 "nbformat": 4,
 "nbformat_minor": 2
}
