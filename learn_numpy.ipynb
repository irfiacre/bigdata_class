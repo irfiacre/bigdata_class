{
 "cells": [
  {
   "cell_type": "code",
   "execution_count": null,
   "metadata": {},
   "outputs": [],
   "source": [
    "# pip install numpy"
   ]
  },
  {
   "cell_type": "code",
   "execution_count": null,
   "metadata": {},
   "outputs": [],
   "source": [
    "# Dimensional array\n",
    "from numpy import array\n",
    "\n",
    "listA = [1.0, 2.0, 3.0]\n",
    "a = array(listA)\n",
    "\n",
    "print(\"----\", a, a.shape, a.dtype)"
   ]
  },
  {
   "cell_type": "code",
   "execution_count": null,
   "metadata": {},
   "outputs": [],
   "source": [
    "# Creating an empty array and a zeros array\n",
    "from numpy import empty, zeros, ones\n",
    "\n",
    "a= empty([3,3])\n",
    "b = zeros([3,3])\n",
    "c = ones([5,5])\n",
    "print(\"-----\\n\", a, \"\\n=====\\n\", b, \"\\n=====\\n\", c)\n"
   ]
  },
  {
   "cell_type": "code",
   "execution_count": null,
   "metadata": {},
   "outputs": [],
   "source": [
    "# Combining Arrays\n",
    "from numpy import array, vstack, hstack\n",
    "\n",
    "a= array([1,2,3])\n",
    "print(a)\n",
    "b = array([4,5,6])\n",
    "print(b)\n",
    "c = vstack([a,b])\n",
    "\n",
    "d = hstack([a,b])\n",
    "print(\"-------\\n\", c,c.shape ,\"\\n========\\n\", d, d.shape)\n",
    "# print(d)\n"
   ]
  },
  {
   "cell_type": "code",
   "execution_count": null,
   "metadata": {},
   "outputs": [],
   "source": []
  },
  {
   "cell_type": "markdown",
   "metadata": {},
   "source": [
    "### Scalars, Vectors, Matrices and Tensors"
   ]
  },
  {
   "cell_type": "markdown",
   "metadata": {},
   "source": [
    "#### 1 - Vectors"
   ]
  },
  {
   "cell_type": "code",
   "execution_count": null,
   "metadata": {},
   "outputs": [],
   "source": [
    "# pip install matplotlib"
   ]
  },
  {
   "cell_type": "code",
   "execution_count": null,
   "metadata": {},
   "outputs": [],
   "source": [
    "import numpy as np\n",
    "from matplotlib import pyplot as plt\n",
    "\n",
    "x=np.arange(1, 11)\n",
    "y= 2*x+5\n",
    "plt.title(\"Some Cool Graph\")\n",
    "plt.xlabel(\"X\")\n",
    "plt.ylabel(\"Y\")\n",
    "\n",
    "# plt.plot(x, y)\n",
    "plt.plot(x, y, \"og\")\n",
    "\n",
    "plt.show()"
   ]
  },
  {
   "cell_type": "code",
   "execution_count": null,
   "metadata": {},
   "outputs": [],
   "source": [
    "import numpy as np\n",
    "from matplotlib import pyplot as plt\n",
    "\n",
    "x=[5,8,10]\n",
    "y=[12,16,6]\n",
    "x2=[6,9,11]\n",
    "y2=[6,15,7] \n",
    "\n",
    "# plt.plot(x, y)\n",
    "plt.bar(x, y, align=\"center\")\n",
    "plt.bar(x2, y2, color=\"green\", align=\"center\")\n",
    "\n",
    "plt.title(\"Some Cool Graph\")\n",
    "plt.xlabel(\"X\")\n",
    "plt.ylabel(\"Y\")\n",
    "\n",
    "plt.show()"
   ]
  },
  {
   "cell_type": "code",
   "execution_count": null,
   "metadata": {},
   "outputs": [],
   "source": [
    "import numpy as np\n",
    "# a = np.array([[30,40,1],[2,0,0],[50,5,60]])\n",
    "# input ('Press Enter to view the nonzero() Array')\n",
    "# print (np.nonzero(a))\n",
    "arrX = np.arange(9.).reshape(3, 3)\n",
    "# print(x)\n",
    "xGreaterThan3 = np.where(arrX>3)\n",
    "\n",
    "\n",
    "print(arr)"
   ]
  }
 ],
 "metadata": {
  "kernelspec": {
   "display_name": "Python 3",
   "language": "python",
   "name": "python3"
  },
  "language_info": {
   "codemirror_mode": {
    "name": "ipython",
    "version": 3
   },
   "file_extension": ".py",
   "mimetype": "text/x-python",
   "name": "python",
   "nbconvert_exporter": "python",
   "pygments_lexer": "ipython3",
   "version": "3.11.8"
  }
 },
 "nbformat": 4,
 "nbformat_minor": 2
}
