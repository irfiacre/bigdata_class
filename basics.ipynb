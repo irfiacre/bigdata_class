{
 "cells": [
  {
   "cell_type": "code",
   "execution_count": null,
   "metadata": {},
   "outputs": [],
   "source": [
    "pip install numpy"
   ]
  },
  {
   "cell_type": "code",
   "execution_count": null,
   "metadata": {},
   "outputs": [],
   "source": [
    "import numpy as np\n",
    "\n",
    "print(\n",
    "    \"\"\"\n",
    "| -     -|\n",
    "|   ---  |\n",
    "    \"\"\"\n",
    "      )\n",
    "print(np.array(1,int))\n",
    "name = f'My name = {input(\"Enter Name: \")}'\n",
    "print(name.upper(), name.title())\n",
    "replace"
   ]
  },
  {
   "cell_type": "code",
   "execution_count": null,
   "metadata": {},
   "outputs": [],
   "source": [
    "print(\"\"\"\n",
    "\n",
    "||||||||\n",
    "||    || \n",
    "||   //\n",
    "||   \\\\\n",
    "||    ||\n",
    "||||||||\n",
    "\n",
    "\"\"\")"
   ]
  },
  {
   "cell_type": "code",
   "execution_count": null,
   "metadata": {},
   "outputs": [],
   "source": []
  },
  {
   "cell_type": "code",
   "execution_count": null,
   "metadata": {},
   "outputs": [],
   "source": [
    "\n",
    "car = int(input(\"Your Lambogrghini Tune-Ups Cost:\"))\n",
    "rent = int(input(\"Your Manhattan Appartment Cost: \"))\n",
    "\n",
    "total = car + rent\n",
    "\n",
    "print(\"\\t Grand Total: \", total)"
   ]
  },
  {
   "cell_type": "code",
   "execution_count": null,
   "metadata": {},
   "outputs": [],
   "source": [
    "die1 = random.randint(1,6)\n",
    "die2 = random.randrange(6) + 1\n",
    "\n",
    "total = die1 + die2\n",
    "\n",
    "print(f\"Die1 = {die1}, Die2= {die2} and the Total = {total}\")\n"
   ]
  },
  {
   "cell_type": "code",
   "execution_count": null,
   "metadata": {},
   "outputs": [],
   "source": [
    "tempHigh = 0\n",
    "count = 0\n",
    "\n",
    "while count < 20:\n",
    "    valText = input('Enter Number:')\n",
    "    if not valText:\n",
    "        print(\"Invalid input! Please restart the Program\")\n",
    "        tempHigh = None\n",
    "        break\n",
    "    tempInput = int(valText)\n",
    "    if tempInput > tempHigh:\n",
    "        tempHigh = tempInput\n",
    "    count += 1\n",
    "# if cu\n",
    "print(tempHigh)"
   ]
  },
  {
   "cell_type": "code",
   "execution_count": null,
   "metadata": {},
   "outputs": [],
   "source": [
    "import random\n",
    "\n",
    "word = \"index\"\n",
    "start = None\n",
    "while start !=\"\":\n",
    "    start = input(\"start: \")\n",
    "    if start:\n",
    "        start = int(start)\n",
    "        finish = int(input(\"Finish: \"))\n",
    "        print(f\"=word[start:{start}, finish:{finish}======\\n\")\n",
    "        print(word[start:finish])"
   ]
  },
  {
   "cell_type": "code",
   "execution_count": null,
   "metadata": {},
   "outputs": [],
   "source": [
    "tuplek = (\"inside\", \"king\", \"all\")\n",
    "\n",
    "\n",
    "if \"in\" in tuplek:\n",
    "    print(\"Found\")\n",
    "else:\n",
    "    print(\"Not Found\")\n",
    "arr = [1,2,3,4,5,6]\n",
    "print(arr[:2])"
   ]
  },
  {
   "cell_type": "code",
   "execution_count": null,
   "metadata": {},
   "outputs": [],
   "source": [
    "print(8%10)"
   ]
  }
 ],
 "metadata": {
  "kernelspec": {
   "display_name": "Python 3",
   "language": "python",
   "name": "python3"
  },
  "language_info": {
   "codemirror_mode": {
    "name": "ipython",
    "version": 3
   },
   "file_extension": ".py",
   "mimetype": "text/x-python",
   "name": "python",
   "nbconvert_exporter": "python",
   "pygments_lexer": "ipython3",
   "version": "3.11.5"
  }
 },
 "nbformat": 4,
 "nbformat_minor": 2
}
