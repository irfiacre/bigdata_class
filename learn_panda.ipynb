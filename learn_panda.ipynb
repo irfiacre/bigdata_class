{
 "cells": [
  {
   "cell_type": "code",
   "execution_count": null,
   "metadata": {},
   "outputs": [],
   "source": [
    "# !pip install pandas"
   ]
  },
  {
   "cell_type": "code",
   "execution_count": null,
   "metadata": {},
   "outputs": [],
   "source": [
    "import pandas as pd\n",
    "\n",
    "DATA_SET = 'data/Health.csv'\n",
    "\n",
    "dataFrame = pd.read_csv(DATA_SET)\n",
    "print(\"initial Data frame\\n==========================\\n\",dataFrame.to_string())\n",
    "# print(\"-----------------\\n Deleting Empty(NaN) rows \\n -----------------\")\n",
    "# print(DATA_FRAME)\n",
    "\n",
    "# DELETE CELLS\n",
    "# new_df = dataFrame.dropna()\n",
    "# print(\"New Data frame\\n==========================\\n\",new_df.to_string())\n",
    "# print(\"-----------------\\nReplace Null Values\\n -----------------\")\n",
    "\n",
    "# dataFrame.fillna(130, inplace=True)\n",
    "# print(dataFrame.to_string())\n",
    "\n",
    "# Replacing with mean\n",
    "print(\"-----------------\\n Replacing with Mean \\n -----------------\")\n",
    "caloriesMean = dataFrame['Calories'].mean()\n",
    "dataFrame['Calories'].fillna(caloriesMean, inplace=True)\n",
    "print(dataFrame.to_string())\n",
    "\n"
   ]
  },
  {
   "cell_type": "code",
   "execution_count": null,
   "metadata": {},
   "outputs": [],
   "source": [
    "import pandas as pd\n",
    "\n",
    "DATA_SET = 'data/Health.csv'\n",
    "\n",
    "dataFrame = pd.read_csv(DATA_SET)\n",
    "# print(\"initial Data frame\\n==========================\\n\",dataFrame.to_string())\n",
    "\n",
    "# Improve data\n",
    "# Replace wrong value\n",
    " \n",
    "# dataFrame.loc[7, 'Duration']=45\n",
    "# print(dataFrame.to_string())\n",
    "\n",
    "print(dataFrame.duplicated()) # Show for each row if it's a duplicate\n",
    "dataFrame.drop_duplicates(inplace=True)\n",
    "\n",
    "print(dataFrame.to_string())\n",
    "\n",
    "\n"
   ]
  }
 ],
 "metadata": {
  "kernelspec": {
   "display_name": "Python 3",
   "language": "python",
   "name": "python3"
  },
  "language_info": {
   "codemirror_mode": {
    "name": "ipython",
    "version": 3
   },
   "file_extension": ".py",
   "mimetype": "text/x-python",
   "name": "python",
   "nbconvert_exporter": "python",
   "pygments_lexer": "ipython3",
   "version": "3.11.8"
  }
 },
 "nbformat": 4,
 "nbformat_minor": 2
}
